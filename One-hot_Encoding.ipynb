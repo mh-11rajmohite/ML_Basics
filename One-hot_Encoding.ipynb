{
 "cells": [
  {
   "cell_type": "code",
   "execution_count": 4,
   "id": "8ba1b83e",
   "metadata": {},
   "outputs": [],
   "source": [
    "import pandas as pd\n",
    "from sklearn.preprocessing import OneHotEncoder\n"
   ]
  },
  {
   "cell_type": "code",
   "execution_count": 5,
   "id": "62190e52",
   "metadata": {},
   "outputs": [
    {
     "name": "stdout",
     "output_type": "stream",
     "text": [
      "   Employee id Gender Remarks\n",
      "0           10      M    Good\n",
      "1           20      F    Nice\n",
      "2           15      F    Good\n",
      "3           25      M   Great\n",
      "4           30      F    Nice\n"
     ]
    }
   ],
   "source": [
    "data = {\"Employee id\" : [10,20,15,25,30]\n",
    "        ,\"Gender\":['M','F','F','M','F']\n",
    "        ,\"Remarks\":['Good','Nice','Good','Great','Nice']}\n",
    "\n",
    "#Converting into pandas dataframe\n",
    "df = pd.DataFrame(data)\n",
    "print(df)"
   ]
  },
  {
   "cell_type": "code",
   "execution_count": 9,
   "id": "68cdc075",
   "metadata": {},
   "outputs": [
    {
     "name": "stdout",
     "output_type": "stream",
     "text": [
      "Encoded Employee data : \n",
      "    Employee id  Gender_F  Gender_M  Remarks_Good  Remarks_Great  Remarks_Nice\n",
      "0           10       0.0       1.0           1.0            0.0           0.0\n",
      "1           20       1.0       0.0           0.0            0.0           1.0\n",
      "2           15       1.0       0.0           1.0            0.0           0.0\n",
      "3           25       0.0       1.0           0.0            1.0           0.0\n",
      "4           30       1.0       0.0           0.0            0.0           1.0\n"
     ]
    }
   ],
   "source": [
    "#Extract categorical columns from the dataframe\n",
    "#Here we extract the columns with object datatype as they are the categorical columns\n",
    "categorical_columns = df.select_dtypes(include=['object']).columns.tolist()\n",
    "\n",
    "#Initialize OnHotEncoding\n",
    "encoder = OneHotEncoder(sparse_output= False)\n",
    "\n",
    "#Apply one_hot encoding to the categorical columns\n",
    "once_hot_encoded = encoder.fit_transform(df[categorical_columns])\n",
    "\n",
    "#Create a dataframe with the one-hot encoded columns\n",
    "#we use get_Feature_names_out() to get the columns names from the encoded data\n",
    "one_hot_df = pd.DataFrame(once_hot_encoded,columns=encoder.get_feature_names_out(categorical_columns))\n",
    "\n",
    "#Concatenate the one-hot encoded dataframe with the original frames\n",
    "df_encoded = pd.concat([df,one_hot_df],axis=1)\n",
    "\n",
    "#Drop the original categorival colimns\n",
    "df_encoded = df_encoded.drop(categorical_columns,axis=1)\n",
    "\n",
    "print(\"Encoded Employee data : \\n\",df_encoded)\n",
    "\n",
    "\n"
   ]
  },
  {
   "cell_type": "code",
   "execution_count": 10,
   "id": "6b73d6e7",
   "metadata": {},
   "outputs": [
    {
     "data": {
      "text/plain": [
       "['Gender', 'Remarks']"
      ]
     },
     "execution_count": 10,
     "metadata": {},
     "output_type": "execute_result"
    }
   ],
   "source": [
    "categorical_columns"
   ]
  },
  {
   "cell_type": "code",
   "execution_count": null,
   "id": "c66cf205",
   "metadata": {},
   "outputs": [],
   "source": []
  }
 ],
 "metadata": {
  "kernelspec": {
   "display_name": "Python 3",
   "language": "python",
   "name": "python3"
  },
  "language_info": {
   "codemirror_mode": {
    "name": "ipython",
    "version": 3
   },
   "file_extension": ".py",
   "mimetype": "text/x-python",
   "name": "python",
   "nbconvert_exporter": "python",
   "pygments_lexer": "ipython3",
   "version": "3.13.3"
  }
 },
 "nbformat": 4,
 "nbformat_minor": 5
}
