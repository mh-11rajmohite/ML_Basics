{
 "cells": [
  {
   "cell_type": "code",
   "execution_count": null,
   "id": "96cbd8f0",
   "metadata": {},
   "outputs": [],
   "source": [
    "import numpy as np \n",
    "import plotly.graph_objects as go\n",
    " "
   ]
  },
  {
   "cell_type": "code",
   "execution_count": null,
   "id": "14f87ef7",
   "metadata": {},
   "outputs": [],
   "source": [
    "#Define Sigmoid fuction\n",
    "def sigmoid(z):\n",
    "    return 1/(1+np.exp(-z))\n",
    "\n",
    "#Define points and thier classes\n",
    "positive_points = np.array([[2,3],[4,5],[3,6],[5,4]])\n",
    "negative_points= np.array([[-2,-3],[-4,-5],[-3,-6],[-5,-4]])\n",
    "\n",
    "#Create a grid of 'x' and 'y' values\n",
    "x = np.linspace(-10,10,100)\n",
    "y = np.linspace(-10,10,100)\n",
    "\n",
    "X, Y = np.meshgrid(x,y)\n",
    "\n",
    "#Define weights and bias for the 2D Classifer \n",
    "w1, w2, b = 1,1,0\n",
    "\n",
    "#Compute 'z' as a linear combination of 'x' and 'y'\n",
    "Z = w1 * X + w2 * Y + b \n",
    "\n",
    "#Evaluate the sigmoid function\n",
    "S = sigmoid(Z)\n",
    "\n",
    "#Create \n",
    "\n",
    "\n",
    "\n",
    "\n",
    "\n",
    "\n",
    "\n",
    "\n",
    "\n"
   ]
  }
 ],
 "metadata": {
  "language_info": {
   "name": "python"
  }
 },
 "nbformat": 4,
 "nbformat_minor": 5
}
