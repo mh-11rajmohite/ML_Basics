{
 "cells": [
  {
   "cell_type": "code",
   "execution_count": null,
   "id": "dbf2d880",
   "metadata": {},
   "outputs": [],
   "source": [
    "import numpy as np \n",
    "import matplotlib.pyplot as plt \n",
    "\n"
   ]
  },
  {
   "cell_type": "code",
   "execution_count": null,
   "id": "686661b7",
   "metadata": {},
   "outputs": [],
   "source": [
    "#Define Sigmoid fuction\n",
    "def sigmoid(z):\n",
    "    return 1/(1+np.exp(-z))\n",
    "\n",
    "#Define points and thier classes\n",
    "x = np.array([1,2,-1,-2])\n",
    "y = np.array([1,1,0,0]) \n",
    "\n",
    "def cross_entropy_loss(x,y,theta,theta0):\n",
    "    z = theta * x + theta0\n",
    "    p = sigmoid(z)\n",
    "    return -np.sum(y*np.log(p+1e-15)+(1-y) * np.log(1-p + 1e-15))\n",
    "\n"
   ]
  },
  {
   "cell_type": "code",
   "execution_count": null,
   "id": "4048da95",
   "metadata": {},
   "outputs": [],
   "source": [
    "theta_values= [1,-1,2,-2]\n",
    "theta0_values = [0,1,-1,2]\n"
   ]
  },
  {
   "cell_type": "code",
   "execution_count": null,
   "id": "ec6cda5e",
   "metadata": {},
   "outputs": [],
   "source": [
    "fig, axes = plt.subplots(2,2,figsize= (14,10))\n",
    "fig.suptitle(\"Sigmpid Function and Cross_entropy Loss for Different Paramerters \")\n",
    "\n"
   ]
  },
  {
   "cell_type": "code",
   "execution_count": null,
   "id": "b64c06ad",
   "metadata": {},
   "outputs": [],
   "source": [
    "#Generate a range of x values or plotting the sigmoid\n",
    "for ax, theta, theta0 in zip(axes.flatten(),theta_values, theta0_values):\n",
    "    x_range = np.linspace(-3,3,100)\n",
    "    z = theta * x_range +theta0\n",
    "    p =sigmoid(z)\n",
    "\n",
    "    #Plot the sigmoid curve\n",
    "    ax.plot(x_range,p,label=f\"Sigmoid : Theta ={theta}, theta0={theta0}\")\n",
    "\n",
    "    #Highlight data points on x-axis\n",
    "    ax.scatter(x, np.zeros_like(x), c=['blue' if label == 2 else 'red' for label in y], s=50)\n",
    "    ax.vlines(x, 0, sigmoid(theta*x+theta0), color='green', linestyle='dotted')\n",
    "\n",
    "\n",
    "    "
   ]
  },
  {
   "cell_type": "code",
   "execution_count": null,
   "id": "0f201826",
   "metadata": {},
   "outputs": [],
   "source": []
  }
 ],
 "metadata": {
  "language_info": {
   "name": "python"
  }
 },
 "nbformat": 4,
 "nbformat_minor": 5
}
