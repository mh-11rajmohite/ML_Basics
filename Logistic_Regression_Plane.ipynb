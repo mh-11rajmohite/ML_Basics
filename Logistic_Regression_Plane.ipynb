{
 "cells": [
  {
   "cell_type": "code",
   "execution_count": 7,
   "id": "e651efd7",
   "metadata": {},
   "outputs": [
    {
     "ename": "ModuleNotFoundError",
     "evalue": "No module named 'seaborn'",
     "output_type": "error",
     "traceback": [
      "\u001b[31m---------------------------------------------------------------------------\u001b[39m",
      "\u001b[31mModuleNotFoundError\u001b[39m                       Traceback (most recent call last)",
      "\u001b[36mCell\u001b[39m\u001b[36m \u001b[39m\u001b[32mIn[7]\u001b[39m\u001b[32m, line 3\u001b[39m\n\u001b[32m      1\u001b[39m \u001b[38;5;28;01mimport\u001b[39;00m\u001b[38;5;250m \u001b[39m\u001b[34;01mnumpy\u001b[39;00m\u001b[38;5;250m \u001b[39m\u001b[38;5;28;01mas\u001b[39;00m\u001b[38;5;250m \u001b[39m\u001b[34;01mnp\u001b[39;00m \n\u001b[32m      2\u001b[39m \u001b[38;5;28;01mimport\u001b[39;00m\u001b[38;5;250m \u001b[39m\u001b[34;01mmatplotlib\u001b[39;00m\u001b[34;01m.\u001b[39;00m\u001b[34;01mpyplot\u001b[39;00m\u001b[38;5;250m \u001b[39m\u001b[38;5;28;01mas\u001b[39;00m\u001b[38;5;250m \u001b[39m\u001b[34;01mplt\u001b[39;00m \n\u001b[32m----> \u001b[39m\u001b[32m3\u001b[39m \u001b[38;5;28;01mimport\u001b[39;00m\u001b[38;5;250m \u001b[39m\u001b[34;01mseaborn\u001b[39;00m\u001b[38;5;250m \u001b[39m\u001b[38;5;28;01mas\u001b[39;00m\u001b[38;5;250m \u001b[39m\u001b[34;01msns\u001b[39;00m \n\u001b[32m      4\u001b[39m \u001b[38;5;28;01mfrom\u001b[39;00m\u001b[38;5;250m \u001b[39m\u001b[34;01mscipy\u001b[39;00m\u001b[38;5;250m \u001b[39m\u001b[38;5;28;01mimport\u001b[39;00m optimize\n\u001b[32m      5\u001b[39m get_ipython().run_line_magic(\u001b[33m'\u001b[39m\u001b[33mmatplotlib\u001b[39m\u001b[33m'\u001b[39m, \u001b[33m'\u001b[39m\u001b[33minline\u001b[39m\u001b[33m'\u001b[39m)\n",
      "\u001b[31mModuleNotFoundError\u001b[39m: No module named 'seaborn'"
     ]
    }
   ],
   "source": [
    "import numpy as np \n",
    "import matplotlib.pyplot as plt \n",
    "import seaborn as sns \n",
    "from scipy import optimize\n",
    "%matplotlib inline \n"
   ]
  },
  {
   "cell_type": "code",
   "execution_count": 8,
   "id": "774a74cb",
   "metadata": {},
   "outputs": [
    {
     "ename": "FileNotFoundError",
     "evalue": "logistic_regression_data.csv not found.",
     "output_type": "error",
     "traceback": [
      "\u001b[31m---------------------------------------------------------------------------\u001b[39m",
      "\u001b[31mFileNotFoundError\u001b[39m                         Traceback (most recent call last)",
      "\u001b[36mCell\u001b[39m\u001b[36m \u001b[39m\u001b[32mIn[8]\u001b[39m\u001b[32m, line 1\u001b[39m\n\u001b[32m----> \u001b[39m\u001b[32m1\u001b[39m data = \u001b[43mnp\u001b[49m\u001b[43m.\u001b[49m\u001b[43mloadtxt\u001b[49m\u001b[43m(\u001b[49m\u001b[33;43m'\u001b[39;49m\u001b[33;43mlogistic_regression_data.csv\u001b[39;49m\u001b[33;43m'\u001b[39;49m\u001b[43m \u001b[49m\u001b[43m,\u001b[49m\u001b[43m \u001b[49m\u001b[43mdelimiter\u001b[49m\u001b[43m=\u001b[49m\u001b[33;43m'\u001b[39;49m\u001b[33;43m,\u001b[39;49m\u001b[33;43m'\u001b[39;49m\u001b[43m,\u001b[49m\u001b[43m \u001b[49m\u001b[43mdtype\u001b[49m\u001b[43m=\u001b[49m\u001b[43m \u001b[49m\u001b[43mnp\u001b[49m\u001b[43m.\u001b[49m\u001b[43mfloat64\u001b[49m\u001b[43m)\u001b[49m\n\u001b[32m      2\u001b[39m X, y = data[:,:-\u001b[32m1\u001b[39m], data[:,-\u001b[32m1\u001b[39m].reshape(-\u001b[32m1\u001b[39m,\u001b[32m1\u001b[39m)\n",
      "\u001b[36mFile \u001b[39m\u001b[32mc:\\Users\\mohiter\\AppData\\Local\\Programs\\Python\\Python313\\Lib\\site-packages\\numpy\\lib\\_npyio_impl.py:1395\u001b[39m, in \u001b[36mloadtxt\u001b[39m\u001b[34m(fname, dtype, comments, delimiter, converters, skiprows, usecols, unpack, ndmin, encoding, max_rows, quotechar, like)\u001b[39m\n\u001b[32m   1392\u001b[39m \u001b[38;5;28;01mif\u001b[39;00m \u001b[38;5;28misinstance\u001b[39m(delimiter, \u001b[38;5;28mbytes\u001b[39m):\n\u001b[32m   1393\u001b[39m     delimiter = delimiter.decode(\u001b[33m'\u001b[39m\u001b[33mlatin1\u001b[39m\u001b[33m'\u001b[39m)\n\u001b[32m-> \u001b[39m\u001b[32m1395\u001b[39m arr = \u001b[43m_read\u001b[49m\u001b[43m(\u001b[49m\u001b[43mfname\u001b[49m\u001b[43m,\u001b[49m\u001b[43m \u001b[49m\u001b[43mdtype\u001b[49m\u001b[43m=\u001b[49m\u001b[43mdtype\u001b[49m\u001b[43m,\u001b[49m\u001b[43m \u001b[49m\u001b[43mcomment\u001b[49m\u001b[43m=\u001b[49m\u001b[43mcomment\u001b[49m\u001b[43m,\u001b[49m\u001b[43m \u001b[49m\u001b[43mdelimiter\u001b[49m\u001b[43m=\u001b[49m\u001b[43mdelimiter\u001b[49m\u001b[43m,\u001b[49m\n\u001b[32m   1396\u001b[39m \u001b[43m            \u001b[49m\u001b[43mconverters\u001b[49m\u001b[43m=\u001b[49m\u001b[43mconverters\u001b[49m\u001b[43m,\u001b[49m\u001b[43m \u001b[49m\u001b[43mskiplines\u001b[49m\u001b[43m=\u001b[49m\u001b[43mskiprows\u001b[49m\u001b[43m,\u001b[49m\u001b[43m \u001b[49m\u001b[43musecols\u001b[49m\u001b[43m=\u001b[49m\u001b[43musecols\u001b[49m\u001b[43m,\u001b[49m\n\u001b[32m   1397\u001b[39m \u001b[43m            \u001b[49m\u001b[43munpack\u001b[49m\u001b[43m=\u001b[49m\u001b[43munpack\u001b[49m\u001b[43m,\u001b[49m\u001b[43m \u001b[49m\u001b[43mndmin\u001b[49m\u001b[43m=\u001b[49m\u001b[43mndmin\u001b[49m\u001b[43m,\u001b[49m\u001b[43m \u001b[49m\u001b[43mencoding\u001b[49m\u001b[43m=\u001b[49m\u001b[43mencoding\u001b[49m\u001b[43m,\u001b[49m\n\u001b[32m   1398\u001b[39m \u001b[43m            \u001b[49m\u001b[43mmax_rows\u001b[49m\u001b[43m=\u001b[49m\u001b[43mmax_rows\u001b[49m\u001b[43m,\u001b[49m\u001b[43m \u001b[49m\u001b[43mquote\u001b[49m\u001b[43m=\u001b[49m\u001b[43mquotechar\u001b[49m\u001b[43m)\u001b[49m\n\u001b[32m   1400\u001b[39m \u001b[38;5;28;01mreturn\u001b[39;00m arr\n",
      "\u001b[36mFile \u001b[39m\u001b[32mc:\\Users\\mohiter\\AppData\\Local\\Programs\\Python\\Python313\\Lib\\site-packages\\numpy\\lib\\_npyio_impl.py:1022\u001b[39m, in \u001b[36m_read\u001b[39m\u001b[34m(fname, delimiter, comment, quote, imaginary_unit, usecols, skiplines, max_rows, converters, ndmin, unpack, dtype, encoding)\u001b[39m\n\u001b[32m   1020\u001b[39m     fname = os.fspath(fname)\n\u001b[32m   1021\u001b[39m \u001b[38;5;28;01mif\u001b[39;00m \u001b[38;5;28misinstance\u001b[39m(fname, \u001b[38;5;28mstr\u001b[39m):\n\u001b[32m-> \u001b[39m\u001b[32m1022\u001b[39m     fh = \u001b[43mnp\u001b[49m\u001b[43m.\u001b[49m\u001b[43mlib\u001b[49m\u001b[43m.\u001b[49m\u001b[43m_datasource\u001b[49m\u001b[43m.\u001b[49m\u001b[43mopen\u001b[49m\u001b[43m(\u001b[49m\u001b[43mfname\u001b[49m\u001b[43m,\u001b[49m\u001b[43m \u001b[49m\u001b[33;43m'\u001b[39;49m\u001b[33;43mrt\u001b[39;49m\u001b[33;43m'\u001b[39;49m\u001b[43m,\u001b[49m\u001b[43m \u001b[49m\u001b[43mencoding\u001b[49m\u001b[43m=\u001b[49m\u001b[43mencoding\u001b[49m\u001b[43m)\u001b[49m\n\u001b[32m   1023\u001b[39m     \u001b[38;5;28;01mif\u001b[39;00m encoding \u001b[38;5;129;01mis\u001b[39;00m \u001b[38;5;28;01mNone\u001b[39;00m:\n\u001b[32m   1024\u001b[39m         encoding = \u001b[38;5;28mgetattr\u001b[39m(fh, \u001b[33m'\u001b[39m\u001b[33mencoding\u001b[39m\u001b[33m'\u001b[39m, \u001b[33m'\u001b[39m\u001b[33mlatin1\u001b[39m\u001b[33m'\u001b[39m)\n",
      "\u001b[36mFile \u001b[39m\u001b[32mc:\\Users\\mohiter\\AppData\\Local\\Programs\\Python\\Python313\\Lib\\site-packages\\numpy\\lib\\_datasource.py:192\u001b[39m, in \u001b[36mopen\u001b[39m\u001b[34m(path, mode, destpath, encoding, newline)\u001b[39m\n\u001b[32m    155\u001b[39m \u001b[38;5;250m\u001b[39m\u001b[33;03m\"\"\"\u001b[39;00m\n\u001b[32m    156\u001b[39m \u001b[33;03mOpen `path` with `mode` and return the file object.\u001b[39;00m\n\u001b[32m    157\u001b[39m \n\u001b[32m   (...)\u001b[39m\u001b[32m    188\u001b[39m \n\u001b[32m    189\u001b[39m \u001b[33;03m\"\"\"\u001b[39;00m\n\u001b[32m    191\u001b[39m ds = DataSource(destpath)\n\u001b[32m--> \u001b[39m\u001b[32m192\u001b[39m \u001b[38;5;28;01mreturn\u001b[39;00m \u001b[43mds\u001b[49m\u001b[43m.\u001b[49m\u001b[43mopen\u001b[49m\u001b[43m(\u001b[49m\u001b[43mpath\u001b[49m\u001b[43m,\u001b[49m\u001b[43m \u001b[49m\u001b[43mmode\u001b[49m\u001b[43m,\u001b[49m\u001b[43m \u001b[49m\u001b[43mencoding\u001b[49m\u001b[43m=\u001b[49m\u001b[43mencoding\u001b[49m\u001b[43m,\u001b[49m\u001b[43m \u001b[49m\u001b[43mnewline\u001b[49m\u001b[43m=\u001b[49m\u001b[43mnewline\u001b[49m\u001b[43m)\u001b[49m\n",
      "\u001b[36mFile \u001b[39m\u001b[32mc:\\Users\\mohiter\\AppData\\Local\\Programs\\Python\\Python313\\Lib\\site-packages\\numpy\\lib\\_datasource.py:529\u001b[39m, in \u001b[36mDataSource.open\u001b[39m\u001b[34m(self, path, mode, encoding, newline)\u001b[39m\n\u001b[32m    526\u001b[39m     \u001b[38;5;28;01mreturn\u001b[39;00m _file_openers[ext](found, mode=mode,\n\u001b[32m    527\u001b[39m                               encoding=encoding, newline=newline)\n\u001b[32m    528\u001b[39m \u001b[38;5;28;01melse\u001b[39;00m:\n\u001b[32m--> \u001b[39m\u001b[32m529\u001b[39m     \u001b[38;5;28;01mraise\u001b[39;00m \u001b[38;5;167;01mFileNotFoundError\u001b[39;00m(\u001b[33mf\u001b[39m\u001b[33m\"\u001b[39m\u001b[38;5;132;01m{\u001b[39;00mpath\u001b[38;5;132;01m}\u001b[39;00m\u001b[33m not found.\u001b[39m\u001b[33m\"\u001b[39m)\n",
      "\u001b[31mFileNotFoundError\u001b[39m: logistic_regression_data.csv not found."
     ]
    }
   ],
   "source": [
    "data = np.loadtxt('logistic_regression_data.csv' , delimiter=',', dtype= np.float64)\n",
    "X, y = data[:,:-1], data[:,-1].reshape(-1,1)\n",
    "\n",
    "\n"
   ]
  },
  {
   "cell_type": "code",
   "execution_count": null,
   "id": "cdb2a9d9",
   "metadata": {},
   "outputs": [],
   "source": [
    "sns.scatterplot(x=X[:,0], y =X[:,1], hue = y.flatten())\n",
    "plt.show()\n"
   ]
  },
  {
   "cell_type": "code",
   "execution_count": null,
   "id": "e09b86c1",
   "metadata": {},
   "outputs": [],
   "source": [
    "def sigmoid(z):\n",
    "    return 1/(1+np.exp(-z))\n"
   ]
  },
  {
   "cell_type": "code",
   "execution_count": null,
   "id": "2218b927",
   "metadata": {},
   "outputs": [],
   "source": [
    "def loss(theta, X,y):\n",
    "    h = sigmoid(np.dot(X,theta))\n",
    "    cos = -(np.sum(y*np.log(h)) + np.sum((1-y) * np.log(1-h) ))/len(y)\n",
    "    return cos"
   ]
  },
  {
   "cell_type": "code",
   "execution_count": null,
   "id": "e7477424",
   "metadata": {},
   "outputs": [],
   "source": [
    "def grad(theta, X,y):\n",
    "    h = sigmoid(np.dot(X,theta))\n",
    "    grad = np.dot(X.T, (h-y))/len(y)\n",
    "    return grad\n"
   ]
  },
  {
   "cell_type": "code",
   "execution_count": null,
   "id": "df36f6b2",
   "metadata": {},
   "outputs": [],
   "source": [
    "def gradient_descent(X,y,theta,alpha, num_iters):\n",
    "    m = len(y)\n",
    "    costs = []\n",
    "    for _ in range(num_iters):\n",
    "        h = sigmoid(np.dot(X,theta))\n",
    "        theta -= alpha * np.dot(X.T , (h-y))/m\n",
    "        costs.append(loss(theta,X,y))\n",
    "    return theta,costs"
   ]
  },
  {
   "cell_type": "code",
   "execution_count": null,
   "id": "02776e71",
   "metadata": {},
   "outputs": [],
   "source": [
    "def expand_feature(x1,x2,power=2):\n",
    "    new_x = np.ones((x1.shape[0],1))\n",
    "    for i in range(1, power+1):\n",
    "        for j in range(i+1):\n",
    "            new_x = np.append(new_x, (x1**(i-j)*(x2**j)).reshape(-1,1),axis = 1)\n",
    "    return new_x"
   ]
  },
  {
   "cell_type": "code",
   "execution_count": null,
   "id": "869e60c2",
   "metadata": {},
   "outputs": [],
   "source": [
    "def predict(theta, X):\n",
    "    return (sigmoid(np.dot(X,theta)) > 0.5).flatten()\n"
   ]
  },
  {
   "cell_type": "code",
   "execution_count": null,
   "id": "19853a4c",
   "metadata": {},
   "outputs": [],
   "source": [
    "def logistic_regression(X,y,power = 2, alpha = 0.01, num_iters = 100):\n",
    "    X= expand_feature(X[:,0], X[:,1], power = power)\n",
    "    theta = np.zeros((X.shape[1],1), dtype=np.float64)\n",
    "    theta, costs = gradient_descent(X, y,theta, alpha, num_iters)\n",
    "    predicted = predict(theta,X)\n",
    "    return predicted, theta, costs\n"
   ]
  },
  {
   "cell_type": "code",
   "execution_count": null,
   "id": "1e2abad8",
   "metadata": {},
   "outputs": [],
   "source": [
    "power , num_iters = 20, 20000\n",
    "predicted, theta, costs = logistic_regression(X,y,power=power)"
   ]
  },
  {
   "cell_type": "code",
   "execution_count": null,
   "id": "a199b84a",
   "metadata": {},
   "outputs": [],
   "source": [
    "print('The accuracy is {:.2f}%'.format(sum(predicted == y.flatten())/len(y)*100))\n"
   ]
  },
  {
   "cell_type": "code",
   "execution_count": null,
   "id": "54c6025d",
   "metadata": {},
   "outputs": [],
   "source": [
    "#Visualize the classifer\n",
    "\n",
    "u= np.linspace(min(X[:,0]),max(X[:,0]),50)\n",
    "v = np.linspace(min(X[:,1]),max(X[:,1]),50)\n",
    "\n",
    "z = np.zeros((len(u),len(v)))\n",
    "\n",
    "for i in range(len(u)):\n",
    "    for j in range(len(v)):\n",
    "        z[i,j] = np.dot(expand_feature(u[i].reshape(1,-1),v[j].reshape(-1,1),power=power),theta)\n",
    "\n",
    "z = np.transpose(z)\n",
    "\n",
    "plt.contour(u,v,z,[0,0.01], cmap='Reds')\n",
    "sns.scatterplot(x=X[:,0],y = X[:,1], hue = y.flatten())\n",
    "plt.title(\"Decision Boundary\")\n",
    "plt.xlabel(\"X\")\n",
    "plt.ylabel(\"Y\")\n",
    "plt.show()"
   ]
  },
  {
   "cell_type": "markdown",
   "id": "e4367b70",
   "metadata": {},
   "source": [
    "Regularization : Cost Function"
   ]
  },
  {
   "cell_type": "code",
   "execution_count": null,
   "id": "e95f5f50",
   "metadata": {},
   "outputs": [],
   "source": [
    "def cost_reg(theta,X,y,lam = 0):\n",
    "    h = sigmoid(np.dot(X,theta))\n",
    "    theta1 = theta.copy()\n",
    "    theta1[0] = 0\n",
    "    cos = -(np.sum(y*np.log(h)) + np.sum((1-y) * np.log(1-h)))/len(y) + lam * np.sum(theta1 * theta1)/ len(y)\n",
    "    return cos"
   ]
  },
  {
   "cell_type": "code",
   "execution_count": null,
   "id": "e01df678",
   "metadata": {},
   "outputs": [],
   "source": [
    "def grad_reg(theta,X,y,lam = 0):\n",
    "    h = sigmoid(np.dot(X,theta))\n",
    "    theta1 = theta.copy()\n",
    "    theta1[0] = 0\n",
    "    grad = (np.dot(X.T,(h-y)) + 2*lam*theta1) / len(y)\n",
    "    return grad"
   ]
  },
  {
   "cell_type": "code",
   "execution_count": null,
   "id": "8d1a9cc9",
   "metadata": {},
   "outputs": [],
   "source": [
    "def gradient_descent_reg(X,y,theta,alpha,lam=0,num_iters=100):\n",
    "    m = len(y)\n",
    "    costs = []\n",
    "\n",
    "    for _ in range(num_iters):\n",
    "        h = sigmoid(np.dot(X,theta))\n",
    "        theta1 = theta.copy()\n",
    "        theta1[0] = 0\n",
    "        theta -= alpha * (np.dot(X.T,(h-y))+2 * lam * theta1)/m\n",
    "        costs.append(cost_reg(theta,X,y))\n",
    "    return theta,costs\n",
    "    "
   ]
  },
  {
   "cell_type": "code",
   "execution_count": null,
   "id": "f395a5c4",
   "metadata": {},
   "outputs": [],
   "source": [
    "def logistic_regression_reg(X,y,power=2,alpha = 0.01,lam=0,num_iters = 100):\n",
    "    X= expand_feature(X[:,0],X[:,1],power=power)\n",
    "    theta = np.zeros((X.shape[1],1), dtype=np.float64)\n",
    "    theta,costs = gradient_descent_reg(X,y,theta,alpha,lam,num_iters)\n",
    "    predicted = predict(theta,X)\n",
    "    return predicted, theta, costs"
   ]
  },
  {
   "cell_type": "code",
   "execution_count": null,
   "id": "1e0ebcfd",
   "metadata": {},
   "outputs": [],
   "source": [
    "pow,num_iters = 20,20000\n",
    "lam = 1\n",
    "predicted,theta,costs = logistic_regression_reg(X,y,power=power,alpha = 0.6,lam = lam,num_iters=num_iters)\n"
   ]
  },
  {
   "cell_type": "code",
   "execution_count": null,
   "id": "1fdfbc43",
   "metadata": {},
   "outputs": [],
   "source": [
    "print('The accuracy is {:.2f}%'.format(sum(predicted == y.flatten())/len(y)*100))\n"
   ]
  },
  {
   "cell_type": "code",
   "execution_count": null,
   "id": "16ce0119",
   "metadata": {},
   "outputs": [],
   "source": [
    "#Visualize the classifer\n",
    "\n",
    "u= np.linspace(min(X[:,0]),max(X[:,0]),50)\n",
    "v = np.linspace(min(X[:,1]),max(X[:,1]),50)\n",
    "\n",
    "z = np.zeros((len(u),len(v)))\n",
    "\n",
    "for i in range(len(u)):\n",
    "    for j in range(len(v)):\n",
    "        z[i,j] = np.dot(expand_feature(u[i].reshape(1,-1),v[j].reshape(-1,1),power=power),theta)\n",
    "\n",
    "z = np.transpose(z)\n",
    "\n",
    "plt.contour(u,v,z,[0,0.01], cmap='Reds')\n",
    "sns.scatterplot(x=X[:,0],y = X[:,1], hue = y.flatten())\n",
    "plt.title(\"Decision Boundary\")\n",
    "plt.xlabel(\"X\")\n",
    "plt.ylabel(\"Y\")\n",
    "plt.show()"
   ]
  }
 ],
 "metadata": {
  "kernelspec": {
   "display_name": "Python 3",
   "language": "python",
   "name": "python3"
  },
  "language_info": {
   "codemirror_mode": {
    "name": "ipython",
    "version": 3
   },
   "file_extension": ".py",
   "mimetype": "text/x-python",
   "name": "python",
   "nbconvert_exporter": "python",
   "pygments_lexer": "ipython3",
   "version": "3.13.3"
  }
 },
 "nbformat": 4,
 "nbformat_minor": 5
}
