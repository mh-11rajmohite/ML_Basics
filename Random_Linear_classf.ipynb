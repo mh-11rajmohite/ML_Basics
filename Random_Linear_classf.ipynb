{
 "cells": [
  {
   "cell_type": "markdown",
   "id": "1d87b47b",
   "metadata": {},
   "source": [
    "Example of Random Linear Classification"
   ]
  },
  {
   "cell_type": "code",
   "execution_count": 1,
   "id": "356108fa",
   "metadata": {},
   "outputs": [],
   "source": [
    "import numpy as np \n",
    "import matplotlib.pyplot as plt"
   ]
  },
  {
   "cell_type": "code",
   "execution_count": 2,
   "id": "ff38305b",
   "metadata": {},
   "outputs": [],
   "source": [
    "np.random.seed(0)"
   ]
  },
  {
   "cell_type": "code",
   "execution_count": 3,
   "id": "c8bc472e",
   "metadata": {},
   "outputs": [],
   "source": [
    "# creates random data with median 5 and can scale +! or -1 \n",
    "#size is number of data points created.\n",
    "dog_whisker_length = np.random.normal(loc = 5, scale=1,size=10)\n",
    "dog_ear_flappiness_index = np.random.normal(loc = 8, scale=1,size=10)"
   ]
  },
  {
   "cell_type": "code",
   "execution_count": 4,
   "id": "bb4a87cf",
   "metadata": {},
   "outputs": [
    {
     "name": "stdout",
     "output_type": "stream",
     "text": [
      "[6.76405235 5.40015721 5.97873798 7.2408932  6.86755799 4.02272212\n",
      " 5.95008842 4.84864279 4.89678115 5.4105985 ]\n"
     ]
    }
   ],
   "source": [
    "print(dog_whisker_length)"
   ]
  },
  {
   "cell_type": "code",
   "execution_count": 5,
   "id": "ff5d028e",
   "metadata": {},
   "outputs": [],
   "source": [
    "cat_whisker_length = np.random.normal(loc = 8, scale=1,size=10)\n",
    "cat_ear_flappiness_index = np.random.normal(loc = 5, scale=1,size=10)"
   ]
  },
  {
   "cell_type": "code",
   "execution_count": 6,
   "id": "737ccebd",
   "metadata": {},
   "outputs": [
    {
     "name": "stdout",
     "output_type": "stream",
     "text": [
      "[ 5.44701018  8.6536186   8.8644362   7.25783498 10.26975462  6.54563433\n",
      "  8.04575852  7.81281615  9.53277921  9.46935877]\n"
     ]
    }
   ],
   "source": [
    "print(cat_whisker_length)"
   ]
  },
  {
   "cell_type": "code",
   "execution_count": 7,
   "id": "d22e0265",
   "metadata": {},
   "outputs": [
    {
     "data": {
      "image/png": "[encoded data removed]",
      "text/plain": [
       "<Figure size 640x480 with 1 Axes>"
      ]
     },
     "metadata": {},
     "output_type": "display_data"
    }
   ],
   "source": [
    "plt.scatter(  dog_whisker_length,dog_ear_flappiness_index,label=\"Dogs\")\n",
    "plt.scatter(  cat_whisker_length,cat_ear_flappiness_index,label=\"Cats\")\n",
    "plt.xlabel(\"Whisker length\")\n",
    "plt.ylabel(\"Ear Flappiness Index\")\n",
    "plt.title(\"Dog vs Cat Classification\")\n",
    "plt.legend()\n",
    "plt.show()"
   ]
  },
  {
   "cell_type": "code",
   "execution_count": 8,
   "id": "b3bd2358",
   "metadata": {},
   "outputs": [],
   "source": [
    "#Implementing random linear classifier algorithm\n",
    "\n",
    "def ramdon_linear_classifier(data_dogs,data_cats,k,d):\n",
    "    best_error = float(\"inf\")\n",
    "    best_theta = None\n",
    "    best_theta0 = None\n",
    "\n",
    "    for _ in range(k):\n",
    "        theta = np.random.normal(size=d)\n",
    "        theta0 = np.random.normal()\n",
    "\n",
    "        error = compute_error(data_dogs,data_cats,  theta,theta0)\n",
    "\n",
    "        if error < best_error :\n",
    "            best_error = error\n",
    "            best_theta = theta\n",
    "            best_theta0 = theta0\n",
    "\n",
    "    return best_theta, best_theta0, best_error\n",
    "\n",
    "\n",
    "\n",
    "def compute_error(data_dogs,data_cats,theta,theta0):\n",
    "    error=0\n",
    "    for x_dog in data_dogs:\n",
    "        if np.dot(theta,x_dog) + theta0 <= 0:\n",
    "            error+=1\n",
    "    for x_cat in data_cats:\n",
    "        if np.dot(theta,x_cat) + theta0 > 0:\n",
    "            error+=1\n",
    "    return error\n",
    "\n",
    "\n",
    "\n"
   ]
  },
  {
   "cell_type": "code",
   "execution_count": null,
   "id": "e8a90ebc",
   "metadata": {},
   "outputs": [],
   "source": []
  }
 ],
 "metadata": {
  "kernelspec": {
   "display_name": "Python 3",
   "language": "python",
   "name": "python3"
  },
  "language_info": {
   "codemirror_mode": {
    "name": "ipython",
    "version": 3
   },
   "file_extension": ".py",
   "mimetype": "text/x-python",
   "name": "python",
   "nbconvert_exporter": "python",
   "pygments_lexer": "ipython3",
   "version": "3.13.3"
  }
 },
 "nbformat": 4,
 "nbformat_minor": 5
}
