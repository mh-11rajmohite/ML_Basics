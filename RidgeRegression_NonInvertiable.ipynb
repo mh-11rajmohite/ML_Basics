{
 "cells": [
  {
   "cell_type": "code",
   "execution_count": 1,
   "id": "fac36e67",
   "metadata": {},
   "outputs": [
    {
     "data": {
      "application/vnd.plotly.v1+json": {
       "config": {
        "plotlyServerURL": "https://plot.ly"
       },
       "data": [
        {
         "marker": {
          "color": "red",
          "size": 5
         },
         "mode": "markers",
         "type": "scatter3d",
         "x": {
          "bdata": "AQIDBA==",
          "dtype": "i1"
         },
         "y": {
          "bdata": "AgQGCA==",
          "dtype": "i1"
         },
         "z": {
          "bdata": "BQkNEQ==",
          "dtype": "i1"
         }
        },
        {
         "opacity": 0.5,
         "type": "surface",
         "x": {
          "bdata": "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",
          "dtype": "f8",
          "shape": "20, 20"
         },
         "y": {
          "bdata": "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",
          "dtype": "f8",
          "shape": "20, 20"
         },
         "z": {
          "bdata": "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",
          "dtype": "f8",
          "shape": "20, 20"
         }
        }
       ],
       "layout": {
        "scene": {
         "xaxis": {
          "title": {
           "text": "X1"
          }
         },
         "yaxis": {
          "title": {
           "text": "X2"
          }
         },
         "zaxis": {
          "title": {
           "text": "Y"
          }
         }
        },
        "template": {
         "data": {
          "bar": [
           {
            "error_x": {
             "color": "#2a3f5f"
            },
            "error_y": {
             "color": "#2a3f5f"
            },
            "marker": {
             "line": {
              "color": "#E5ECF6",
              "width": 0.5
             },
             "pattern": {
              "fillmode": "overlay",
              "size": 10,
              "solidity": 0.2
             }
            },
            "type": "bar"
           }
          ],
          "barpolar": [
           {
            "marker": {
             "line": {
              "color": "#E5ECF6",
              "width": 0.5
             },
             "pattern": {
              "fillmode": "overlay",
              "size": 10,
              "solidity": 0.2
             }
            },
            "type": "barpolar"
           }
          ],
          "carpet": [
           {
            "aaxis": {
             "endlinecolor": "#2a3f5f",
             "gridcolor": "white",
             "linecolor": "white",
             "minorgridcolor": "white",
             "startlinecolor": "#2a3f5f"
            },
            "baxis": {
             "endlinecolor": "#2a3f5f",
             "gridcolor": "white",
             "linecolor": "white",
             "minorgridcolor": "white",
             "startlinecolor": "#2a3f5f"
            },
            "type": "carpet"
           }
          ],
          "choropleth": [
           {
            "colorbar": {
             "outlinewidth": 0,
             "ticks": ""
            },
            "type": "choropleth"
           }
          ],
          "contour": [
           {
            "colorbar": {
             "outlinewidth": 0,
             "ticks": ""
            },
            "colorscale": [
             [
              0,
              "#0d0887"
             ],
             [
              0.1111111111111111,
              "#46039f"
             ],
             [
              0.2222222222222222,
              "#7201a8"
             ],
             [
              0.3333333333333333,
              "#9c179e"
             ],
             [
              0.4444444444444444,
              "#bd3786"
             ],
             [
              0.5555555555555556,
              "#d8576b"
             ],
             [
              0.6666666666666666,
              "#ed7953"
             ],
             [
              0.7777777777777778,
              "#fb9f3a"
             ],
             [
              0.8888888888888888,
              "#fdca26"
             ],
             [
              1,
              "#f0f921"
             ]
            ],
            "type": "contour"
           }
          ],
          "contourcarpet": [
           {
            "colorbar": {
             "outlinewidth": 0,
             "ticks": ""
            },
            "type": "contourcarpet"
           }
          ],
          "heatmap": [
           {
            "colorbar": {
             "outlinewidth": 0,
             "ticks": ""
            },
            "colorscale": [
             [
              0,
              "#0d0887"
             ],
             [
              0.1111111111111111,
              "#46039f"
             ],
             [
              0.2222222222222222,
              "#7201a8"
             ],
             [
              0.3333333333333333,
              "#9c179e"
             ],
             [
              0.4444444444444444,
              "#bd3786"
             ],
             [
              0.5555555555555556,
              "#d8576b"
             ],
             [
              0.6666666666666666,
              "#ed7953"
             ],
             [
              0.7777777777777778,
              "#fb9f3a"
             ],
             [
              0.8888888888888888,
              "#fdca26"
             ],
             [
              1,
              "#f0f921"
             ]
            ],
            "type": "heatmap"
           }
          ],
          "histogram": [
           {
            "marker": {
             "pattern": {
              "fillmode": "overlay",
              "size": 10,
              "solidity": 0.2
             }
            },
            "type": "histogram"
           }
          ],
          "histogram2d": [
           {
            "colorbar": {
             "outlinewidth": 0,
             "ticks": ""
            },
            "colorscale": [
             [
              0,
              "#0d0887"
             ],
             [
              0.1111111111111111,
              "#46039f"
             ],
             [
              0.2222222222222222,
              "#7201a8"
             ],
             [
              0.3333333333333333,
              "#9c179e"
             ],
             [
              0.4444444444444444,
              "#bd3786"
             ],
             [
              0.5555555555555556,
              "#d8576b"
             ],
             [
              0.6666666666666666,
              "#ed7953"
             ],
             [
              0.7777777777777778,
              "#fb9f3a"
             ],
             [
              0.8888888888888888,
              "#fdca26"
             ],
             [
              1,
              "#f0f921"
             ]
            ],
            "type": "histogram2d"
           }
          ],
          "histogram2dcontour": [
           {
            "colorbar": {
             "outlinewidth": 0,
             "ticks": ""
            },
            "colorscale": [
             [
              0,
              "#0d0887"
             ],
             [
              0.1111111111111111,
              "#46039f"
             ],
             [
              0.2222222222222222,
              "#7201a8"
             ],
             [
              0.3333333333333333,
              "#9c179e"
             ],
             [
              0.4444444444444444,
              "#bd3786"
             ],
             [
              0.5555555555555556,
              "#d8576b"
             ],
             [
              0.6666666666666666,
              "#ed7953"
             ],
             [
              0.7777777777777778,
              "#fb9f3a"
             ],
             [
              0.8888888888888888,
              "#fdca26"
             ],
             [
              1,
              "#f0f921"
             ]
            ],
            "type": "histogram2dcontour"
           }
          ],
          "mesh3d": [
           {
            "colorbar": {
             "outlinewidth": 0,
             "ticks": ""
            },
            "type": "mesh3d"
           }
          ],
          "parcoords": [
           {
            "line": {
             "colorbar": {
              "outlinewidth": 0,
              "ticks": ""
             }
            },
            "type": "parcoords"
           }
          ],
          "pie": [
           {
            "automargin": true,
            "type": "pie"
           }
          ],
          "scatter": [
           {
            "fillpattern": {
             "fillmode": "overlay",
             "size": 10,
             "solidity": 0.2
            },
            "type": "scatter"
           }
          ],
          "scatter3d": [
           {
            "line": {
             "colorbar": {
              "outlinewidth": 0,
              "ticks": ""
             }
            },
            "marker": {
             "colorbar": {
              "outlinewidth": 0,
              "ticks": ""
             }
            },
            "type": "scatter3d"
           }
          ],
          "scattercarpet": [
           {
            "marker": {
             "colorbar": {
              "outlinewidth": 0,
              "ticks": ""
             }
            },
            "type": "scattercarpet"
           }
          ],
          "scattergeo": [
           {
            "marker": {
             "colorbar": {
              "outlinewidth": 0,
              "ticks": ""
             }
            },
            "type": "scattergeo"
           }
          ],
          "scattergl": [
           {
            "marker": {
             "colorbar": {
              "outlinewidth": 0,
              "ticks": ""
             }
            },
            "type": "scattergl"
           }
          ],
          "scattermap": [
           {
            "marker": {
             "colorbar": {
              "outlinewidth": 0,
              "ticks": ""
             }
            },
            "type": "scattermap"
           }
          ],
          "scattermapbox": [
           {
            "marker": {
             "colorbar": {
              "outlinewidth": 0,
              "ticks": ""
             }
            },
            "type": "scattermapbox"
           }
          ],
          "scatterpolar": [
           {
            "marker": {
             "colorbar": {
              "outlinewidth": 0,
              "ticks": ""
             }
            },
            "type": "scatterpolar"
           }
          ],
          "scatterpolargl": [
           {
            "marker": {
             "colorbar": {
              "outlinewidth": 0,
              "ticks": ""
             }
            },
            "type": "scatterpolargl"
           }
          ],
          "scatterternary": [
           {
            "marker": {
             "colorbar": {
              "outlinewidth": 0,
              "ticks": ""
             }
            },
            "type": "scatterternary"
           }
          ],
          "surface": [
           {
            "colorbar": {
             "outlinewidth": 0,
             "ticks": ""
            },
            "colorscale": [
             [
              0,
              "#0d0887"
             ],
             [
              0.1111111111111111,
              "#46039f"
             ],
             [
              0.2222222222222222,
              "#7201a8"
             ],
             [
              0.3333333333333333,
              "#9c179e"
             ],
             [
              0.4444444444444444,
              "#bd3786"
             ],
             [
              0.5555555555555556,
              "#d8576b"
             ],
             [
              0.6666666666666666,
              "#ed7953"
             ],
             [
              0.7777777777777778,
              "#fb9f3a"
             ],
             [
              0.8888888888888888,
              "#fdca26"
             ],
             [
              1,
              "#f0f921"
             ]
            ],
            "type": "surface"
           }
          ],
          "table": [
           {
            "cells": {
             "fill": {
              "color": "#EBF0F8"
             },
             "line": {
              "color": "white"
             }
            },
            "header": {
             "fill": {
              "color": "#C8D4E3"
             },
             "line": {
              "color": "white"
             }
            },
            "type": "table"
           }
          ]
         },
         "layout": {
          "annotationdefaults": {
           "arrowcolor": "#2a3f5f",
           "arrowhead": 0,
           "arrowwidth": 1
          },
          "autotypenumbers": "strict",
          "coloraxis": {
           "colorbar": {
            "outlinewidth": 0,
            "ticks": ""
           }
          },
          "colorscale": {
           "diverging": [
            [
             0,
             "#8e0152"
            ],
            [
             0.1,
             "#c51b7d"
            ],
            [
             0.2,
             "#de77ae"
            ],
            [
             0.3,
             "#f1b6da"
            ],
            [
             0.4,
             "#fde0ef"
            ],
            [
             0.5,
             "#f7f7f7"
            ],
            [
             0.6,
             "#e6f5d0"
            ],
            [
             0.7,
             "#b8e186"
            ],
            [
             0.8,
             "#7fbc41"
            ],
            [
             0.9,
             "#4d9221"
            ],
            [
             1,
             "#276419"
            ]
           ],
           "sequential": [
            [
             0,
             "#0d0887"
            ],
            [
             0.1111111111111111,
             "#46039f"
            ],
            [
             0.2222222222222222,
             "#7201a8"
            ],
            [
             0.3333333333333333,
             "#9c179e"
            ],
            [
             0.4444444444444444,
             "#bd3786"
            ],
            [
             0.5555555555555556,
             "#d8576b"
            ],
            [
             0.6666666666666666,
             "#ed7953"
            ],
            [
             0.7777777777777778,
             "#fb9f3a"
            ],
            [
             0.8888888888888888,
             "#fdca26"
            ],
            [
             1,
             "#f0f921"
            ]
           ],
           "sequentialminus": [
            [
             0,
             "#0d0887"
            ],
            [
             0.1111111111111111,
             "#46039f"
            ],
            [
             0.2222222222222222,
             "#7201a8"
            ],
            [
             0.3333333333333333,
             "#9c179e"
            ],
            [
             0.4444444444444444,
             "#bd3786"
            ],
            [
             0.5555555555555556,
             "#d8576b"
            ],
            [
             0.6666666666666666,
             "#ed7953"
            ],
            [
             0.7777777777777778,
             "#fb9f3a"
            ],
            [
             0.8888888888888888,
             "#fdca26"
            ],
            [
             1,
             "#f0f921"
            ]
           ]
          },
          "colorway": [
           "#636efa",
           "#EF553B",
           "#00cc96",
           "#ab63fa",
           "#FFA15A",
           "#19d3f3",
           "#FF6692",
           "#B6E880",
           "#FF97FF",
           "#FECB52"
          ],
          "font": {
           "color": "#2a3f5f"
          },
          "geo": {
           "bgcolor": "white",
           "lakecolor": "white",
           "landcolor": "#E5ECF6",
           "showlakes": true,
           "showland": true,
           "subunitcolor": "white"
          },
          "hoverlabel": {
           "align": "left"
          },
          "hovermode": "closest",
          "mapbox": {
           "style": "light"
          },
          "paper_bgcolor": "white",
          "plot_bgcolor": "#E5ECF6",
          "polar": {
           "angularaxis": {
            "gridcolor": "white",
            "linecolor": "white",
            "ticks": ""
           },
           "bgcolor": "#E5ECF6",
           "radialaxis": {
            "gridcolor": "white",
            "linecolor": "white",
            "ticks": ""
           }
          },
          "scene": {
           "xaxis": {
            "backgroundcolor": "#E5ECF6",
            "gridcolor": "white",
            "gridwidth": 2,
            "linecolor": "white",
            "showbackground": true,
            "ticks": "",
            "zerolinecolor": "white"
           },
           "yaxis": {
            "backgroundcolor": "#E5ECF6",
            "gridcolor": "white",
            "gridwidth": 2,
            "linecolor": "white",
            "showbackground": true,
            "ticks": "",
            "zerolinecolor": "white"
           },
           "zaxis": {
            "backgroundcolor": "#E5ECF6",
            "gridcolor": "white",
            "gridwidth": 2,
            "linecolor": "white",
            "showbackground": true,
            "ticks": "",
            "zerolinecolor": "white"
           }
          },
          "shapedefaults": {
           "line": {
            "color": "#2a3f5f"
           }
          },
          "ternary": {
           "aaxis": {
            "gridcolor": "white",
            "linecolor": "white",
            "ticks": ""
           },
           "baxis": {
            "gridcolor": "white",
            "linecolor": "white",
            "ticks": ""
           },
           "bgcolor": "#E5ECF6",
           "caxis": {
            "gridcolor": "white",
            "linecolor": "white",
            "ticks": ""
           }
          },
          "title": {
           "x": 0.05
          },
          "xaxis": {
           "automargin": true,
           "gridcolor": "white",
           "linecolor": "white",
           "ticks": "",
           "title": {
            "standoff": 15
           },
           "zerolinecolor": "white",
           "zerolinewidth": 2
          },
          "yaxis": {
           "automargin": true,
           "gridcolor": "white",
           "linecolor": "white",
           "ticks": "",
           "title": {
            "standoff": 15
           },
           "zerolinecolor": "white",
           "zerolinewidth": 2
          }
         }
        },
        "title": {
         "text": "Ridge Regression 3D Hyperplane"
        }
       }
      }
     },
     "metadata": {},
     "output_type": "display_data"
    }
   ],
   "source": [
    "import numpy as np \n",
    "import plotly.graph_objects as go \n",
    "\n",
    "#Data : 4 points with perfectly correlated features X! and X2 and output y\n",
    "X = np.array([[1,2],[2,4],[3,6],[4,8]])\n",
    "y = np.array([5,9,13,17])\n",
    "\n",
    "#Add an intercep term for Ridge Regression\n",
    "X_with_intercept = np.hstack([np.ones((X.shape[0],1)), X])\n",
    "\n",
    "#Ridge Regression setup\n",
    "lambda_ridge = 0.1\n",
    "I = np.eye(X_with_intercept.shape[1])     #Identity matrix for ridge regularization\n",
    "beta_ridge = np.linalg.inv(X_with_intercept.T @ X_with_intercept + lambda_ridge *I) @ X_with_intercept.T @ y\n",
    "\n",
    "#Create a grid for plotting\n",
    "x1_range = np.linspace(0,5,20)\n",
    "x2_range = 2 * x1_range \n",
    "X1_mesh, X2_mesh = np.meshgrid(x1_range,x2_range)\n",
    "Y_mesh = beta_ridge[0] + beta_ridge[1] * X1_mesh + beta_ridge[2] * X2_mesh\n",
    "\n",
    "#Plotting using Plotly\n",
    "fig = go.Figure(data=[go.Scatter3d(x=X[:,0] , y=X[:,1], z = y,mode=\"markers\", marker=dict(size=5,color=\"red\")) ,go.Surface(x=X1_mesh,y=X2_mesh,z=Y_mesh,opacity=0.5)]) \n",
    "\n",
    "fig.update_layout(scene=dict(xaxis_title=\"X1\",yaxis_title=\"X2\",zaxis_title=\"Y\"),title=\"Ridge Regression 3D Hyperplane\")\n",
    "\n",
    "fig.show()\n",
    "\n",
    "\n",
    "\n",
    "\n",
    "\n"
   ]
  },
  {
   "cell_type": "code",
   "execution_count": 2,
   "id": "fd7a5517",
   "metadata": {},
   "outputs": [
    {
     "data": {
      "text/plain": [
       "array([0.        , 0.26315789, 0.52631579, 0.78947368, 1.05263158,\n",
       "       1.31578947, 1.57894737, 1.84210526, 2.10526316, 2.36842105,\n",
       "       2.63157895, 2.89473684, 3.15789474, 3.42105263, 3.68421053,\n",
       "       3.94736842, 4.21052632, 4.47368421, 4.73684211, 5.        ])"
      ]
     },
     "execution_count": 2,
     "metadata": {},
     "output_type": "execute_result"
    }
   ],
   "source": [
    " \n",
    "x1_range"
   ]
  },
  {
   "cell_type": "code",
   "execution_count": null,
   "id": "65c85576",
   "metadata": {},
   "outputs": [],
   "source": []
  }
 ],
 "metadata": {
  "kernelspec": {
   "display_name": "Python 3",
   "language": "python",
   "name": "python3"
  },
  "language_info": {
   "codemirror_mode": {
    "name": "ipython",
    "version": 3
   },
   "file_extension": ".py",
   "mimetype": "text/x-python",
   "name": "python",
   "nbconvert_exporter": "python",
   "pygments_lexer": "ipython3",
   "version": "3.13.3"
  }
 },
 "nbformat": 4,
 "nbformat_minor": 5
}
